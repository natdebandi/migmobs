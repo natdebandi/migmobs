{
  "cells": [
    {
      "cell_type": "markdown",
      "metadata": {
        "id": "view-in-github",
        "colab_type": "text"
      },
      "source": [
        "<a href=\"https://colab.research.google.com/github/natdebandi/migmobs/blob/main/download_tw.ipynb\" target=\"_parent\"><img src=\"https://colab.research.google.com/assets/colab-badge.svg\" alt=\"Open In Colab\"/></a>"
      ]
    },
    {
      "cell_type": "markdown",
      "metadata": {
        "id": "nmairhTcgdrz"
      },
      "source": [
        "# Download TW\n",
        "\n",
        "**Natalia Dedandi**\n",
        "\n",
        "\n"
      ]
    },
    {
      "cell_type": "markdown",
      "source": [
        "https://github.com/vladkens/twscrape?tab=readme-ov-file\n"
      ],
      "metadata": {
        "id": "SK58lmcuEE09"
      }
    },
    {
      "cell_type": "code",
      "source": [
        "pip install twscrape"
      ],
      "metadata": {
        "colab": {
          "base_uri": "https://localhost:8080/"
        },
        "id": "_qGvz_HPEBx3",
        "outputId": "30ade8e8-cd9e-4988-ce49-d561766fe31a"
      },
      "execution_count": 1,
      "outputs": [
        {
          "output_type": "stream",
          "name": "stdout",
          "text": [
            "Collecting twscrape\n",
            "  Downloading twscrape-0.14-py3-none-any.whl.metadata (12 kB)\n",
            "Collecting aiosqlite>=0.17.0 (from twscrape)\n",
            "  Downloading aiosqlite-0.20.0-py3-none-any.whl.metadata (4.3 kB)\n",
            "Collecting fake-useragent>=1.4.0 (from twscrape)\n",
            "  Downloading fake_useragent-2.0.0-py3-none-any.whl.metadata (16 kB)\n",
            "Requirement already satisfied: httpx>=0.26.0 in /usr/local/lib/python3.10/dist-packages (from twscrape) (0.28.0)\n",
            "Collecting loguru>=0.7.0 (from twscrape)\n",
            "  Downloading loguru-0.7.3-py3-none-any.whl.metadata (22 kB)\n",
            "Collecting pyotp>=2.9.0 (from twscrape)\n",
            "  Downloading pyotp-2.9.0-py3-none-any.whl.metadata (9.8 kB)\n",
            "Requirement already satisfied: typing_extensions>=4.0 in /usr/local/lib/python3.10/dist-packages (from aiosqlite>=0.17.0->twscrape) (4.12.2)\n",
            "Requirement already satisfied: anyio in /usr/local/lib/python3.10/dist-packages (from httpx>=0.26.0->twscrape) (3.7.1)\n",
            "Requirement already satisfied: certifi in /usr/local/lib/python3.10/dist-packages (from httpx>=0.26.0->twscrape) (2024.8.30)\n",
            "Requirement already satisfied: httpcore==1.* in /usr/local/lib/python3.10/dist-packages (from httpx>=0.26.0->twscrape) (1.0.7)\n",
            "Requirement already satisfied: idna in /usr/local/lib/python3.10/dist-packages (from httpx>=0.26.0->twscrape) (3.10)\n",
            "Requirement already satisfied: h11<0.15,>=0.13 in /usr/local/lib/python3.10/dist-packages (from httpcore==1.*->httpx>=0.26.0->twscrape) (0.14.0)\n",
            "Requirement already satisfied: sniffio>=1.1 in /usr/local/lib/python3.10/dist-packages (from anyio->httpx>=0.26.0->twscrape) (1.3.1)\n",
            "Requirement already satisfied: exceptiongroup in /usr/local/lib/python3.10/dist-packages (from anyio->httpx>=0.26.0->twscrape) (1.2.2)\n",
            "Downloading twscrape-0.14-py3-none-any.whl (33 kB)\n",
            "Downloading aiosqlite-0.20.0-py3-none-any.whl (15 kB)\n",
            "Downloading fake_useragent-2.0.0-py3-none-any.whl (201 kB)\n",
            "\u001b[2K   \u001b[90m━━━━━━━━━━━━━━━━━━━━━━━━━━━━━━━━━━━━━━━━\u001b[0m \u001b[32m201.0/201.0 kB\u001b[0m \u001b[31m13.0 MB/s\u001b[0m eta \u001b[36m0:00:00\u001b[0m\n",
            "\u001b[?25hDownloading loguru-0.7.3-py3-none-any.whl (61 kB)\n",
            "\u001b[2K   \u001b[90m━━━━━━━━━━━━━━━━━━━━━━━━━━━━━━━━━━━━━━━━\u001b[0m \u001b[32m61.6/61.6 kB\u001b[0m \u001b[31m4.3 MB/s\u001b[0m eta \u001b[36m0:00:00\u001b[0m\n",
            "\u001b[?25hDownloading pyotp-2.9.0-py3-none-any.whl (13 kB)\n",
            "Installing collected packages: fake-useragent, pyotp, loguru, aiosqlite, twscrape\n",
            "Successfully installed aiosqlite-0.20.0 fake-useragent-2.0.0 loguru-0.7.3 pyotp-2.9.0 twscrape-0.14\n"
          ]
        }
      ]
    },
    {
      "cell_type": "code",
      "source": [
        "import asyncio\n",
        "from twscrape import API, gather\n",
        "from twscrape.logger import set_log_level\n",
        "\n",
        "async def main():\n",
        "    api = API()  # or API(\"path-to.db\") - default is `accounts.db`\n",
        "\n",
        "    # ADD ACCOUNTS (for CLI usage see BELOW)\n",
        "    await api.pool.add_account(\"natdebandi\", \"pass1\", \"u1@example.com\", \"mail_pass1\")\n",
        "    await api.pool.add_account(\"user2\", \"pass2\", \"u2@example.com\", \"mail_pass2\")\n",
        "    await api.pool.login_all()\n",
        "\n",
        "    # or add account with COOKIES (with cookies login not required)\n",
        "    cookies = \"abc=12; ct0=xyz\"  # or '{\"abc\": \"12\", \"ct0\": \"xyz\"}'\n",
        "    await api.pool.add_account(\"user3\", \"pass3\", \"u3@mail.com\", \"mail_pass3\", cookies=cookies)\n",
        "\n",
        "    # API USAGE\n",
        "\n",
        "    # search (latest tab)\n",
        "    await gather(api.search(\"elon musk\", limit=20))  # list[Tweet]\n",
        "    # change search tab (product), can be: Top, Latest (default), Media\n",
        "    await gather(api.search(\"elon musk\", limit=20, kv={\"product\": \"Top\"}))\n",
        "\n",
        "    # tweet info\n",
        "    tweet_id = 20\n",
        "    await api.tweet_details(tweet_id)  # Tweet\n",
        "    await gather(api.retweeters(tweet_id, limit=20))  # list[User]\n",
        "\n",
        "    # Note: this method have small pagination from X side, like 5 tweets per query\n",
        "    await gather(api.tweet_replies(tweet_id, limit=20))  # list[Tweet]\n",
        "\n",
        "    # get user by login\n",
        "    user_login = \"xdevelopers\"\n",
        "    await api.user_by_login(user_login)  # User\n",
        "\n",
        "    # user info\n",
        "    user_id = 2244994945\n",
        "    await api.user_by_id(user_id)  # User\n",
        "    await gather(api.following(user_id, limit=20))  # list[User]\n",
        "    await gather(api.followers(user_id, limit=20))  # list[User]\n",
        "    await gather(api.verified_followers(user_id, limit=20))  # list[User]\n",
        "    await gather(api.subscriptions(user_id, limit=20))  # list[User]\n",
        "    await gather(api.user_tweets(user_id, limit=20))  # list[Tweet]\n",
        "    await gather(api.user_tweets_and_replies(user_id, limit=20))  # list[Tweet]\n",
        "    await gather(api.user_media(user_id, limit=20))  # list[Tweet]\n",
        "\n",
        "    # list info\n",
        "    list_id = 123456789\n",
        "    await gather(api.list_timeline(list_id))\n",
        "\n",
        "    # NOTE 1: gather is a helper function to receive all data as list, FOR can be used as well:\n",
        "    async for tweet in api.search(\"elon musk\"):\n",
        "        print(tweet.id, tweet.user.username, tweet.rawContent)  # tweet is `Tweet` object\n",
        "\n",
        "    # NOTE 2: all methods have `raw` version (returns `httpx.Response` object):\n",
        "    async for rep in api.search_raw(\"elon musk\"):\n",
        "        print(rep.status_code, rep.json())  # rep is `httpx.Response` object\n",
        "\n",
        "    # change log level, default info\n",
        "    set_log_level(\"DEBUG\")\n",
        "\n",
        "    # Tweet & User model can be converted to regular dict or json, e.g.:\n",
        "    doc = await api.user_by_id(user_id)  # User\n",
        "    doc.dict()  # -> python dict\n",
        "    doc.json()  # -> json string\n",
        "\n",
        "if __name__ == \"__main__\":\n",
        "    asyncio.run(main())"
      ],
      "metadata": {
        "id": "I40WSvwM98Rx"
      },
      "execution_count": null,
      "outputs": []
    }
  ],
  "metadata": {
    "colab": {
      "provenance": [],
      "gpuType": "T4",
      "name": "download_tw.ipynb",
      "include_colab_link": true
    },
    "kernelspec": {
      "display_name": "Python 3",
      "name": "python3"
    },
    "language_info": {
      "codemirror_mode": {
        "name": "ipython",
        "version": 3
      },
      "file_extension": ".py",
      "mimetype": "text/x-python",
      "name": "python",
      "nbconvert_exporter": "python",
      "pygments_lexer": "ipython3",
      "version": "3.11.3"
    }
  },
  "nbformat": 4,
  "nbformat_minor": 0
}