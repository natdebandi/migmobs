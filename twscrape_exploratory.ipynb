{
  "cells": [
    {
      "cell_type": "markdown",
      "source": [
        "GET TW about migration"
      ],
      "metadata": {
        "id": "_60i7Q_Ksci2"
      },
      "id": "_60i7Q_Ksci2"
    },
    {
      "cell_type": "code",
      "source": [
        "pip install twscrape"
      ],
      "metadata": {
        "id": "fiD0ouKesc8J",
        "outputId": "3253f29b-5025-4a5f-e0c9-385986b34601",
        "colab": {
          "base_uri": "https://localhost:8080/"
        }
      },
      "id": "fiD0ouKesc8J",
      "execution_count": 1,
      "outputs": [
        {
          "output_type": "stream",
          "name": "stdout",
          "text": [
            "Requirement already satisfied: twscrape in /usr/local/lib/python3.10/dist-packages (0.14)\n",
            "Requirement already satisfied: aiosqlite>=0.17.0 in /usr/local/lib/python3.10/dist-packages (from twscrape) (0.20.0)\n",
            "Requirement already satisfied: fake-useragent>=1.4.0 in /usr/local/lib/python3.10/dist-packages (from twscrape) (2.0.3)\n",
            "Requirement already satisfied: httpx>=0.26.0 in /usr/local/lib/python3.10/dist-packages (from twscrape) (0.28.0)\n",
            "Requirement already satisfied: loguru>=0.7.0 in /usr/local/lib/python3.10/dist-packages (from twscrape) (0.7.3)\n",
            "Requirement already satisfied: pyotp>=2.9.0 in /usr/local/lib/python3.10/dist-packages (from twscrape) (2.9.0)\n",
            "Requirement already satisfied: typing_extensions>=4.0 in /usr/local/lib/python3.10/dist-packages (from aiosqlite>=0.17.0->twscrape) (4.12.2)\n",
            "Requirement already satisfied: anyio in /usr/local/lib/python3.10/dist-packages (from httpx>=0.26.0->twscrape) (3.7.1)\n",
            "Requirement already satisfied: certifi in /usr/local/lib/python3.10/dist-packages (from httpx>=0.26.0->twscrape) (2024.8.30)\n",
            "Requirement already satisfied: httpcore==1.* in /usr/local/lib/python3.10/dist-packages (from httpx>=0.26.0->twscrape) (1.0.7)\n",
            "Requirement already satisfied: idna in /usr/local/lib/python3.10/dist-packages (from httpx>=0.26.0->twscrape) (3.10)\n",
            "Requirement already satisfied: h11<0.15,>=0.13 in /usr/local/lib/python3.10/dist-packages (from httpcore==1.*->httpx>=0.26.0->twscrape) (0.14.0)\n",
            "Requirement already satisfied: sniffio>=1.1 in /usr/local/lib/python3.10/dist-packages (from anyio->httpx>=0.26.0->twscrape) (1.3.1)\n",
            "Requirement already satisfied: exceptiongroup in /usr/local/lib/python3.10/dist-packages (from anyio->httpx>=0.26.0->twscrape) (1.2.2)\n"
          ]
        }
      ]
    },
    {
      "cell_type": "code",
      "execution_count": 2,
      "id": "f38a6da2-f1ce-44de-996e-c9bbc33fd561",
      "metadata": {
        "id": "f38a6da2-f1ce-44de-996e-c9bbc33fd561"
      },
      "outputs": [],
      "source": [
        "# importo paquetes\n",
        "import asyncio\n",
        "import twscrape as tws\n",
        "import pandas as pd\n",
        "\n",
        "from twscrape import API, gather\n",
        "from twscrape.logger import set_log_level"
      ]
    },
    {
      "cell_type": "code",
      "source": [
        "# me logueo\n",
        "api = API()  # or API(\"path-to.db\") - default is `accounts.db`"
      ],
      "metadata": {
        "id": "nN01R40TuYE8"
      },
      "id": "nN01R40TuYE8",
      "execution_count": 3,
      "outputs": []
    },
    {
      "cell_type": "code",
      "source": [],
      "metadata": {
        "id": "tcdtLBYeuZYz"
      },
      "id": "tcdtLBYeuZYz",
      "execution_count": 1,
      "outputs": []
    },
    {
      "cell_type": "code",
      "execution_count": 5,
      "id": "62a1c5a2-0e67-4b11-9b28-bddb29fbde5e",
      "metadata": {
        "id": "62a1c5a2-0e67-4b11-9b28-bddb29fbde5e",
        "outputId": "d3eef567-41e7-4f61-e860-1c85d83d1124",
        "colab": {
          "base_uri": "https://localhost:8080/"
        }
      },
      "outputs": [
        {
          "output_type": "stream",
          "name": "stderr",
          "text": [
            "\u001b[32m2024-12-12 12:09:10.284\u001b[0m | \u001b[33m\u001b[1mWARNING \u001b[0m | \u001b[36mtwscrape.accounts_pool\u001b[0m:\u001b[36madd_account\u001b[0m:\u001b[36m88\u001b[0m - \u001b[33m\u001b[1mAccount pellegr22680530 already exists\u001b[0m\n",
            "\u001b[32m2024-12-12 12:09:10.290\u001b[0m | \u001b[1mINFO    \u001b[0m | \u001b[36mtwscrape.accounts_pool\u001b[0m:\u001b[36mlogin_all\u001b[0m:\u001b[36m183\u001b[0m - \u001b[1m[1/1] Logging in pellegr22680530 - pondewieszt@hotmail.com\u001b[0m\n",
            "\u001b[32m2024-12-12 12:09:10.367\u001b[0m | \u001b[31m\u001b[1mERROR   \u001b[0m | \u001b[36mtwscrape.accounts_pool\u001b[0m:\u001b[36mlogin\u001b[0m:\u001b[36m165\u001b[0m - \u001b[31m\u001b[1mFailed to login 'pellegr22680530': Unknown scheme for proxy URL URL('9d5ce243711d0468aeea669070f36dfd228c3aed')\u001b[0m\n"
          ]
        },
        {
          "output_type": "execute_result",
          "data": {
            "text/plain": [
              "{'total': 1, 'success': 0, 'failed': 1}"
            ]
          },
          "metadata": {},
          "execution_count": 5
        }
      ],
      "source": [
        "\n",
        "\n",
        "# ADD ACCOUNTS (for CLI usage see BELOW)\n",
        "await api.pool.add_account(\"pellegr22680530\", \"glgu3189\", \"pondewieszt@hotmail.com\", \"BidiNq39\",\"DESI6OOEG4TSRYFF|801329\",\"9d5ce243711d0468aeea669070f36dfd228c3aed\")\n",
        "await api.pool.login_all()"
      ]
    },
    {
      "cell_type": "code",
      "execution_count": 7,
      "id": "4caa90cf-31d8-49c0-8245-b82d50e09bb7",
      "metadata": {
        "scrolled": true,
        "id": "4caa90cf-31d8-49c0-8245-b82d50e09bb7",
        "outputId": "60b28315-23c4-4d64-a56c-107ec28ddb21",
        "colab": {
          "base_uri": "https://localhost:8080/",
          "height": 88
        }
      },
      "outputs": [
        {
          "output_type": "stream",
          "name": "stderr",
          "text": [
            "\u001b[32m2024-12-12 12:00:48.073\u001b[0m | \u001b[33m\u001b[1mWARNING \u001b[0m | \u001b[36mtwscrape.accounts_pool\u001b[0m:\u001b[36mget_for_queue_or_wait\u001b[0m:\u001b[36m297\u001b[0m - \u001b[33m\u001b[1mNo active accounts. Stopping...\u001b[0m\n",
            "\u001b[32m2024-12-12 12:00:48.080\u001b[0m | \u001b[33m\u001b[1mWARNING \u001b[0m | \u001b[36mtwscrape.accounts_pool\u001b[0m:\u001b[36mget_for_queue_or_wait\u001b[0m:\u001b[36m297\u001b[0m - \u001b[33m\u001b[1mNo active accounts. Stopping...\u001b[0m\n"
          ]
        },
        {
          "output_type": "execute_result",
          "data": {
            "text/plain": [
              "Empty DataFrame\n",
              "Columns: []\n",
              "Index: []"
            ],
            "text/html": [
              "\n",
              "  <div id=\"df-54f44367-1d0c-43d3-a1b5-0e905483afb8\" class=\"colab-df-container\">\n",
              "    <div>\n",
              "<style scoped>\n",
              "    .dataframe tbody tr th:only-of-type {\n",
              "        vertical-align: middle;\n",
              "    }\n",
              "\n",
              "    .dataframe tbody tr th {\n",
              "        vertical-align: top;\n",
              "    }\n",
              "\n",
              "    .dataframe thead th {\n",
              "        text-align: right;\n",
              "    }\n",
              "</style>\n",
              "<table border=\"1\" class=\"dataframe\">\n",
              "  <thead>\n",
              "    <tr style=\"text-align: right;\">\n",
              "      <th></th>\n",
              "    </tr>\n",
              "  </thead>\n",
              "  <tbody>\n",
              "  </tbody>\n",
              "</table>\n",
              "</div>\n",
              "    <div class=\"colab-df-buttons\">\n",
              "\n",
              "  <div class=\"colab-df-container\">\n",
              "    <button class=\"colab-df-convert\" onclick=\"convertToInteractive('df-54f44367-1d0c-43d3-a1b5-0e905483afb8')\"\n",
              "            title=\"Convert this dataframe to an interactive table.\"\n",
              "            style=\"display:none;\">\n",
              "\n",
              "  <svg xmlns=\"http://www.w3.org/2000/svg\" height=\"24px\" viewBox=\"0 -960 960 960\">\n",
              "    <path d=\"M120-120v-720h720v720H120Zm60-500h600v-160H180v160Zm220 220h160v-160H400v160Zm0 220h160v-160H400v160ZM180-400h160v-160H180v160Zm440 0h160v-160H620v160ZM180-180h160v-160H180v160Zm440 0h160v-160H620v160Z\"/>\n",
              "  </svg>\n",
              "    </button>\n",
              "\n",
              "  <style>\n",
              "    .colab-df-container {\n",
              "      display:flex;\n",
              "      gap: 12px;\n",
              "    }\n",
              "\n",
              "    .colab-df-convert {\n",
              "      background-color: #E8F0FE;\n",
              "      border: none;\n",
              "      border-radius: 50%;\n",
              "      cursor: pointer;\n",
              "      display: none;\n",
              "      fill: #1967D2;\n",
              "      height: 32px;\n",
              "      padding: 0 0 0 0;\n",
              "      width: 32px;\n",
              "    }\n",
              "\n",
              "    .colab-df-convert:hover {\n",
              "      background-color: #E2EBFA;\n",
              "      box-shadow: 0px 1px 2px rgba(60, 64, 67, 0.3), 0px 1px 3px 1px rgba(60, 64, 67, 0.15);\n",
              "      fill: #174EA6;\n",
              "    }\n",
              "\n",
              "    .colab-df-buttons div {\n",
              "      margin-bottom: 4px;\n",
              "    }\n",
              "\n",
              "    [theme=dark] .colab-df-convert {\n",
              "      background-color: #3B4455;\n",
              "      fill: #D2E3FC;\n",
              "    }\n",
              "\n",
              "    [theme=dark] .colab-df-convert:hover {\n",
              "      background-color: #434B5C;\n",
              "      box-shadow: 0px 1px 3px 1px rgba(0, 0, 0, 0.15);\n",
              "      filter: drop-shadow(0px 1px 2px rgba(0, 0, 0, 0.3));\n",
              "      fill: #FFFFFF;\n",
              "    }\n",
              "  </style>\n",
              "\n",
              "    <script>\n",
              "      const buttonEl =\n",
              "        document.querySelector('#df-54f44367-1d0c-43d3-a1b5-0e905483afb8 button.colab-df-convert');\n",
              "      buttonEl.style.display =\n",
              "        google.colab.kernel.accessAllowed ? 'block' : 'none';\n",
              "\n",
              "      async function convertToInteractive(key) {\n",
              "        const element = document.querySelector('#df-54f44367-1d0c-43d3-a1b5-0e905483afb8');\n",
              "        const dataTable =\n",
              "          await google.colab.kernel.invokeFunction('convertToInteractive',\n",
              "                                                    [key], {});\n",
              "        if (!dataTable) return;\n",
              "\n",
              "        const docLinkHtml = 'Like what you see? Visit the ' +\n",
              "          '<a target=\"_blank\" href=https://colab.research.google.com/notebooks/data_table.ipynb>data table notebook</a>'\n",
              "          + ' to learn more about interactive tables.';\n",
              "        element.innerHTML = '';\n",
              "        dataTable['output_type'] = 'display_data';\n",
              "        await google.colab.output.renderOutput(dataTable, element);\n",
              "        const docLink = document.createElement('div');\n",
              "        docLink.innerHTML = docLinkHtml;\n",
              "        element.appendChild(docLink);\n",
              "      }\n",
              "    </script>\n",
              "  </div>\n",
              "\n",
              "\n",
              "    </div>\n",
              "  </div>\n"
            ],
            "application/vnd.google.colaboratory.intrinsic+json": {
              "type": "dataframe",
              "variable_name": "tabla",
              "summary": "{\n  \"name\": \"tabla\",\n  \"rows\": 0,\n  \"fields\": []\n}"
            }
          },
          "metadata": {},
          "execution_count": 7
        }
      ],
      "source": [
        "#hago una query general\n",
        "doc = await gather(api.search(\"cck\", limit=20))\n",
        "\n",
        "tabla = pd.DataFrame(doc)\n",
        "\n",
        "tabla.head(20)"
      ]
    },
    {
      "cell_type": "code",
      "execution_count": null,
      "id": "321c47c2-2014-4826-99b3-3ee45b6bb002",
      "metadata": {
        "id": "321c47c2-2014-4826-99b3-3ee45b6bb002",
        "outputId": "f3f59ea0-154f-48c1-e4f0-80d40a157472"
      },
      "outputs": [
        {
          "name": "stderr",
          "output_type": "stream",
          "text": [
            "E:\\Programas\\Anaconda\\Lib\\json\\decoder.py:353: RuntimeWarning: coroutine 'gather' was never awaited\n",
            "  obj, end = self.scan_once(s, idx)\n",
            "RuntimeWarning: Enable tracemalloc to get the object allocation traceback\n",
            "E:\\Programas\\Anaconda\\Lib\\json\\decoder.py:353: RuntimeWarning: coroutine 'API.tweet_details' was never awaited\n",
            "  obj, end = self.scan_once(s, idx)\n",
            "RuntimeWarning: Enable tracemalloc to get the object allocation traceback\n"
          ]
        },
        {
          "data": {
            "text/plain": [
              "Tweet(id=1772658214263214279, id_str='1772658214263214279', url='https://twitter.com/ditulliojuli/status/1772658214263214279', date=datetime.datetime(2024, 3, 26, 16, 13, 47, tzinfo=datetime.timezone.utc), user=User(id=4449919888, id_str='4449919888', url='https://twitter.com/ditulliojuli', username='ditulliojuli', displayname='Juliana di Tullio', rawDescription='Senadora Nacional por la provincia de Buenos Aires UC/TOD☀️S(2023) Diputada Nacional del Frente para la Victoria(2005/2017) Militante Peronista y Feminista✌🏻', created=datetime.datetime(2015, 12, 11, 15, 48, 35, tzinfo=datetime.timezone.utc), followersCount=197146, friendsCount=1961, statusesCount=25676, favouritesCount=28744, listedCount=461, mediaCount=1500, location='Provincia de Buenos Aires', profileImageUrl='https://pbs.twimg.com/profile_images/676519234244124674/k4uUtH8V_normal.jpg', profileBannerUrl='https://pbs.twimg.com/profile_banners/4449919888/1450129773', protected=None, verified=False, blue=False, blueType='Government', descriptionLinks=[TextLink(url='https://julianaditullio.ar/', text='julianaditullio.ar', tcourl='https://t.co/wszs7vlfry')], _type='snscrape.modules.twitter.User'), lang='es', rawContent='Quiero felicitar al gobierno por esta medida inteligente y urgente, económicamente hablando, de cambiarle el nombre a un centro cultural.\\nSin duda alguna, ahora nuestro país va a salir adelante   encaminándose a la salida de la recesión para ir al crecimiento económico.🙄', replyCount=1490, retweetCount=1108, likeCount=5125, quoteCount=102, conversationId=1772658214263214279, conversationIdStr='1772658214263214279', hashtags=[], cashtags=[], mentionedUsers=[], links=[], viewCount=123956, retweetedTweet=None, quotedTweet=None, place=None, coordinates=None, inReplyToTweetId=None, inReplyToTweetIdStr=None, inReplyToUser=None, source='<a href=\"https://mobile.twitter.com\" rel=\"nofollow\">Twitter Web App</a>', sourceUrl='https://mobile.twitter.com', sourceLabel='Twitter Web App', media=Media(photos=[], videos=[], animated=[]), _type='snscrape.modules.twitter.Tweet')"
            ]
          },
          "execution_count": 109,
          "metadata": {},
          "output_type": "execute_result"
        }
      ],
      "source": [
        "# busco data de un tweet\n",
        "tweet_id = 1772658214263214279\n",
        "\n",
        "info = await api.tweet_details(tweet_id)\n",
        "\n",
        "info"
      ]
    },
    {
      "cell_type": "code",
      "source": [
        "############PROBAR FALTA\n",
        "async def main():\n",
        "    api = API()\n",
        "\n",
        "    q = \"elon musk since:2023-01-01 until:2023-05-31\"\n",
        "    async for tweet in api.search(q, limit=5000):\n",
        "        print(tweet.id, tweet.user.username, tweet.rawContent)\n",
        "\n",
        "\n",
        "if __name__ == \"__main__\":\n",
        "    asyncio.run(main())"
      ],
      "metadata": {
        "id": "xL0Gb7mcyn6J"
      },
      "id": "xL0Gb7mcyn6J",
      "execution_count": null,
      "outputs": []
    },
    {
      "cell_type": "code",
      "execution_count": null,
      "id": "29d4ae66-6637-446b-9866-bcd209d769b9",
      "metadata": {
        "id": "29d4ae66-6637-446b-9866-bcd209d769b9",
        "outputId": "493f4c1f-9c8e-4050-a674-e0577326675a"
      },
      "outputs": [
        {
          "data": {
            "text/plain": [
              "User(id=28266730, id_str='28266730', url='https://twitter.com/VickyVillarruel', username='VickyVillarruel', displayname='Victoria Villarruel', rawDescription='Argentina. Vicepresidente de la Nación. Presidente del Senado. Abogada. Patriota 🇦🇷', created=datetime.datetime(2009, 4, 2, 2, 56, 56, tzinfo=datetime.timezone.utc), followersCount=601455, friendsCount=1314, statusesCount=78207, favouritesCount=158872, listedCount=702, mediaCount=5155, location='Argentina', profileImageUrl='https://pbs.twimg.com/profile_images/1733936506052468736/Ur5WFQtM_normal.jpg', profileBannerUrl='https://pbs.twimg.com/profile_banners/28266730/1702267280', protected=None, verified=False, blue=True, blueType=None, descriptionLinks=[TextLink(url='http://www.instagram.com/victoria.villarruel', text='instagram.com/victoria.villa…', tcourl='https://t.co/mDiAnjvoeB')], _type='snscrape.modules.twitter.User')"
            ]
          },
          "execution_count": 112,
          "metadata": {},
          "output_type": "execute_result"
        }
      ],
      "source": [
        "# user info con nombre de la cuenta, lo uso para sacar el id de la cuenta\n",
        "\n",
        "user_login = \"VickyVillarruel\"\n",
        "\n",
        "await api.user_by_login(user_login)\n",
        ""
      ]
    },
    {
      "cell_type": "code",
      "execution_count": null,
      "id": "b6a3d284-d682-4898-ae8d-26b35b6f44c3",
      "metadata": {
        "scrolled": true,
        "id": "b6a3d284-d682-4898-ae8d-26b35b6f44c3",
        "outputId": "f4b6826b-80db-41c3-ff7a-b27e6418396e"
      },
      "outputs": [
        {
          "ename": "AttributeError",
          "evalue": "'list' object has no attribute 'head'",
          "output_type": "error",
          "traceback": [
            "\u001b[1;31m---------------------------------------------------------------------------\u001b[0m",
            "\u001b[1;31mAttributeError\u001b[0m                            Traceback (most recent call last)",
            "Cell \u001b[1;32mIn[119], line 8\u001b[0m\n\u001b[0;32m      4\u001b[0m followers \u001b[38;5;241m=\u001b[39m \u001b[38;5;28;01mawait\u001b[39;00m gather(api\u001b[38;5;241m.\u001b[39mfollowing(user_id, limit\u001b[38;5;241m=\u001b[39m\u001b[38;5;241m20\u001b[39m))  \u001b[38;5;66;03m# list[User]\u001b[39;00m\n\u001b[0;32m      6\u001b[0m folowers \u001b[38;5;241m=\u001b[39m pd\u001b[38;5;241m.\u001b[39mDataFrame(followers)\n\u001b[1;32m----> 8\u001b[0m followers\u001b[38;5;241m.\u001b[39mhead(\u001b[38;5;241m5\u001b[39m)\n",
            "\u001b[1;31mAttributeError\u001b[0m: 'list' object has no attribute 'head'"
          ]
        }
      ],
      "source": [
        "# ahora con el id de la cuenta puedo levantar followers y otras cositas\n",
        "user_id = '28266730'\n",
        "\n",
        "followers = await gather(api.following(user_id, limit=20))  # lista de followers...cómo volverlo dataframe?\n"
      ]
    }
  ],
  "metadata": {
    "kernelspec": {
      "display_name": "Python 3 (ipykernel)",
      "language": "python",
      "name": "python3"
    },
    "language_info": {
      "codemirror_mode": {
        "name": "ipython",
        "version": 3
      },
      "file_extension": ".py",
      "mimetype": "text/x-python",
      "name": "python",
      "nbconvert_exporter": "python",
      "pygments_lexer": "ipython3",
      "version": "3.11.7"
    },
    "colab": {
      "provenance": []
    }
  },
  "nbformat": 4,
  "nbformat_minor": 5
}